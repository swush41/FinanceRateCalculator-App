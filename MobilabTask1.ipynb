{
  "nbformat": 4,
  "nbformat_minor": 0,
  "metadata": {
    "colab": {
      "name": "MobilabTask.ipynb",
      "provenance": [],
      "collapsed_sections": [],
      "toc_visible": true,
      "machine_shape": "hm",
      "authorship_tag": "ABX9TyPEQOO71mF0T9o7CZGmUvlC",
      "include_colab_link": true
    },
    "kernelspec": {
      "name": "python3",
      "display_name": "Python 3"
    },
    "language_info": {
      "name": "python"
    }
  },
  "cells": [
    {
      "cell_type": "markdown",
      "metadata": {
        "id": "view-in-github",
        "colab_type": "text"
      },
      "source": [
        "<a href=\"https://colab.research.google.com/github/swush41/FinanceRateCalculator-App/blob/main/MobilabTask1.ipynb\" target=\"_parent\"><img src=\"https://colab.research.google.com/assets/colab-badge.svg\" alt=\"Open In Colab\"/></a>"
      ]
    },
    {
      "cell_type": "markdown",
      "metadata": {
        "id": "PoenoM_3zfbY"
      },
      "source": [
        "#MobilabTask\n",
        "\n",
        "- I have chosen Colab Research to utilize high ram capacity. Coded the pipeline online then switched to the local host.\n",
        "- As data reader I first used Pandas which then did not meet my expectation with the large dataset and my ram capacity was exceeded.\n",
        "- Then I have switched to Pyspark and without exceeding the ram capacity I could process over 60GB data."
      ]
    },
    {
      "cell_type": "code",
      "metadata": {
        "colab": {
          "base_uri": "https://localhost:8080/"
        },
        "id": "6Rtp0WvuOScJ",
        "outputId": "491095ee-6674-4fc0-9e11-f676ad87ebe2"
      },
      "source": [
        "!pip3 install pyspark"
      ],
      "execution_count": 1,
      "outputs": [
        {
          "output_type": "stream",
          "text": [
            "Requirement already satisfied: pyspark in /usr/local/lib/python3.7/dist-packages (3.1.1)\n",
            "Requirement already satisfied: py4j==0.10.9 in /usr/local/lib/python3.7/dist-packages (from pyspark) (0.10.9)\n"
          ],
          "name": "stdout"
        }
      ]
    },
    {
      "cell_type": "code",
      "metadata": {
        "id": "lT3RI5QXTK_A"
      },
      "source": [
        "import pandas as pd\n",
        "import pyspark\n",
        "from datetime import datetime, timedelta\n",
        "from pyspark.sql import functions as F, types as T\n",
        "from pyspark.sql.functions import *\n",
        "from pyspark import SparkFiles\n",
        "from functools import reduce\n",
        "from pyspark import SparkContext, SparkConf\n",
        "from pyspark.sql import DataFrame,SparkSession"
      ],
      "execution_count": 2,
      "outputs": []
    },
    {
      "cell_type": "code",
      "metadata": {
        "id": "NVYXlikiOs_V"
      },
      "source": [
        "# Build spark\n",
        "\n",
        "spark = SparkSession.builder \\\n",
        "    .appName(\"Python Spark SQL\") \\\n",
        "    .master(\"local\") \\\n",
        "    .config(\"spark.some.config.option\").getOrCreate()"
      ],
      "execution_count": 3,
      "outputs": []
    },
    {
      "cell_type": "code",
      "metadata": {
        "id": "KivvKH4GTQ3B"
      },
      "source": [
        " # Set a dynamic csv url \n",
        " \n",
        "taxi_data_url=\"https://s3.amazonaws.com/nyc-tlc/trip+data/COLOR_tripdata_DATE.csv\"\n",
        "prefix = \"COLOR_tripdata_DATE.csv\"\n",
        "COLORS=[\"yellow\",\"green\"]"
      ],
      "execution_count": 4,
      "outputs": []
    },
    {
      "cell_type": "code",
      "metadata": {
        "id": "Sbu6E-c8TUpi",
        "colab": {
          "base_uri": "https://localhost:8080/"
        },
        "outputId": "17b85f94-6f2d-4c37-f8d3-a6fe4e50ee2c"
      },
      "source": [
        "# Select last three years by going backwards in history which makes the future imports automatic\n",
        "\n",
        "starting_date = datetime(datetime.now().year-3,1,1)\n",
        "starting_year = starting_date.year\n",
        "monthy_date_list = pd.date_range(start=starting_date.strftime(\"%m/%Y\"), end=datetime(datetime.now().year,1,1).strftime(\"%m/%Y\"), freq='1M').tolist()\n",
        "monthy_date_list.reverse()\n",
        "monthy_date_list"
      ],
      "execution_count": 5,
      "outputs": [
        {
          "output_type": "execute_result",
          "data": {
            "text/plain": [
              "[Timestamp('2020-12-31 00:00:00', freq='M'),\n",
              " Timestamp('2020-11-30 00:00:00', freq='M'),\n",
              " Timestamp('2020-10-31 00:00:00', freq='M'),\n",
              " Timestamp('2020-09-30 00:00:00', freq='M'),\n",
              " Timestamp('2020-08-31 00:00:00', freq='M'),\n",
              " Timestamp('2020-07-31 00:00:00', freq='M'),\n",
              " Timestamp('2020-06-30 00:00:00', freq='M'),\n",
              " Timestamp('2020-05-31 00:00:00', freq='M'),\n",
              " Timestamp('2020-04-30 00:00:00', freq='M'),\n",
              " Timestamp('2020-03-31 00:00:00', freq='M'),\n",
              " Timestamp('2020-02-29 00:00:00', freq='M'),\n",
              " Timestamp('2020-01-31 00:00:00', freq='M'),\n",
              " Timestamp('2019-12-31 00:00:00', freq='M'),\n",
              " Timestamp('2019-11-30 00:00:00', freq='M'),\n",
              " Timestamp('2019-10-31 00:00:00', freq='M'),\n",
              " Timestamp('2019-09-30 00:00:00', freq='M'),\n",
              " Timestamp('2019-08-31 00:00:00', freq='M'),\n",
              " Timestamp('2019-07-31 00:00:00', freq='M'),\n",
              " Timestamp('2019-06-30 00:00:00', freq='M'),\n",
              " Timestamp('2019-05-31 00:00:00', freq='M'),\n",
              " Timestamp('2019-04-30 00:00:00', freq='M'),\n",
              " Timestamp('2019-03-31 00:00:00', freq='M'),\n",
              " Timestamp('2019-02-28 00:00:00', freq='M'),\n",
              " Timestamp('2019-01-31 00:00:00', freq='M'),\n",
              " Timestamp('2018-12-31 00:00:00', freq='M'),\n",
              " Timestamp('2018-11-30 00:00:00', freq='M'),\n",
              " Timestamp('2018-10-31 00:00:00', freq='M'),\n",
              " Timestamp('2018-09-30 00:00:00', freq='M'),\n",
              " Timestamp('2018-08-31 00:00:00', freq='M'),\n",
              " Timestamp('2018-07-31 00:00:00', freq='M'),\n",
              " Timestamp('2018-06-30 00:00:00', freq='M'),\n",
              " Timestamp('2018-05-31 00:00:00', freq='M'),\n",
              " Timestamp('2018-04-30 00:00:00', freq='M'),\n",
              " Timestamp('2018-03-31 00:00:00', freq='M'),\n",
              " Timestamp('2018-02-28 00:00:00', freq='M'),\n",
              " Timestamp('2018-01-31 00:00:00', freq='M')]"
            ]
          },
          "metadata": {
            "tags": []
          },
          "execution_count": 5
        }
      ]
    },
    {
      "cell_type": "code",
      "metadata": {
        "id": "pW1CMfMH7Wl7",
        "colab": {
          "base_uri": "https://localhost:8080/"
        },
        "outputId": "e70531d3-922f-42ee-8487-61f93ed16afe"
      },
      "source": [
        "len(monthy_date_list) # for debugging purposes\n",
        "monthy_date_list[0]"
      ],
      "execution_count": 6,
      "outputs": [
        {
          "output_type": "execute_result",
          "data": {
            "text/plain": [
              "Timestamp('2020-12-31 00:00:00', freq='M')"
            ]
          },
          "metadata": {
            "tags": []
          },
          "execution_count": 6
        }
      ]
    },
    {
      "cell_type": "code",
      "metadata": {
        "id": "-y1hbv1OHvhm"
      },
      "source": [
        " # Defined a function that merges multiple dataframes after collected\n",
        " \n",
        " def UnionFunc(*dfs):\n",
        "    return reduce(DataFrame.unionAll, dfs)"
      ],
      "execution_count": 7,
      "outputs": []
    },
    {
      "cell_type": "code",
      "metadata": {
        "id": "c4MVpDWK-wsB",
        "colab": {
          "base_uri": "https://localhost:8080/"
        },
        "outputId": "b72e4fc0-d568-40ff-f8e5-9af44cd2c76a"
      },
      "source": [
        "# Run two for loops with Color and Date parameters changing.\n",
        "# Collect datasets and push them in a list\n",
        "\n",
        "df_list = []\n",
        "for color in COLORS:\n",
        "    if color == 'green':\n",
        "      pick_up_time = 'lpep_pickup_datetime'\n",
        "      drop_off_time = 'lpep_dropoff_datetime'\n",
        "    else:\n",
        "      pick_up_time = 'tpep_pickup_datetime'\n",
        "      drop_off_time = 'tpep_dropoff_datetime'\n",
        "    for month_date in monthy_date_list:\n",
        "      data_url = taxi_data_url.replace(\"COLOR\",color).replace(\"DATE\",month_date.strftime(\"%Y-%m\"))\n",
        "      print(data_url) \n",
        "      prefix = 'COLOR_tripdata_DATE.csv'\n",
        "      file_prefix = prefix.replace(\"COLOR\",color).replace(\"DATE\",month_date.strftime(\"%Y-%m\"))\n",
        "      spark.sparkContext.addFile(data_url)\n",
        "      df = spark.read.csv(\"file://\"+SparkFiles.get(file_prefix), header=True, inferSchema= True).select('VendorID',pick_up_time,drop_off_time,'passenger_count','trip_distance','total_amount')\n",
        "      \n",
        "      if color == 'green': ## For green taxis the column name of timestamp is set the same of the yellow\n",
        "        df = df.withColumnRenamed(\"lpep_dropoff_datetime\",\"tpep_dropoff_datetime\").\\\n",
        "                withColumnRenamed( \"lpep_pickup_datetime\",\"tpep_pickup_datetime\")\n",
        "      \n",
        "      print(color)\n",
        "      df = df.withColumn('color',lit(color)) # add column \"color\"\n",
        "      df_list.append(df) # Append collected dataframes in a list\n",
        "      print(df.count())\n",
        "      break           \n",
        "    #break"
      ],
      "execution_count": 8,
      "outputs": [
        {
          "output_type": "stream",
          "text": [
            "https://s3.amazonaws.com/nyc-tlc/trip+data/yellow_tripdata_2020-12.csv\n",
            "yellow\n",
            "1461897\n",
            "https://s3.amazonaws.com/nyc-tlc/trip+data/green_tripdata_2020-12.csv\n",
            "green\n",
            "83130\n"
          ],
          "name": "stdout"
        }
      ]
    },
    {
      "cell_type": "code",
      "metadata": {
        "id": "zkFmSdxxOLw-",
        "colab": {
          "base_uri": "https://localhost:8080/"
        },
        "outputId": "734a40d1-d61a-4279-daf2-114ae83b1fe2"
      },
      "source": [
        "print(len(df_list))"
      ],
      "execution_count": 9,
      "outputs": [
        {
          "output_type": "stream",
          "text": [
            "2\n"
          ],
          "name": "stdout"
        }
      ]
    },
    {
      "cell_type": "code",
      "metadata": {
        "id": "krmhBH_BOUAS",
        "colab": {
          "base_uri": "https://localhost:8080/"
        },
        "outputId": "fb5353bb-73b0-430f-b6f5-1857ddf96da5"
      },
      "source": [
        "# Get the first item of the list as a dataframe to append others on top of it\n",
        "all_df = df_list[0]\n",
        "all_df.show()"
      ],
      "execution_count": 10,
      "outputs": [
        {
          "output_type": "stream",
          "text": [
            "+--------+--------------------+---------------------+---------------+-------------+------------+------+\n",
            "|VendorID|tpep_pickup_datetime|tpep_dropoff_datetime|passenger_count|trip_distance|total_amount| color|\n",
            "+--------+--------------------+---------------------+---------------+-------------+------------+------+\n",
            "|       1| 2020-12-01 00:07:13|  2020-12-01 00:18:12|              1|          7.6|       33.92|yellow|\n",
            "|       1| 2020-12-01 00:41:19|  2020-12-01 00:49:45|              1|          1.6|       14.75|yellow|\n",
            "|       2| 2020-12-01 00:33:40|  2020-12-01 01:00:35|              1|        16.74|       63.92|yellow|\n",
            "|       2| 2020-12-01 00:02:15|  2020-12-01 00:13:09|              1|         4.16|        18.8|yellow|\n",
            "|       2| 2020-12-01 00:37:42|  2020-12-01 00:45:11|              1|         2.22|         9.8|yellow|\n",
            "|       1| 2020-12-01 00:27:47|  2020-12-01 00:45:40|              0|          8.4|       40.92|yellow|\n",
            "|       2| 2020-12-01 00:40:47|  2020-12-01 00:57:03|              1|         6.44|       24.96|yellow|\n",
            "|       2| 2020-12-01 00:01:42|  2020-12-01 00:06:06|              1|         0.99|       11.16|yellow|\n",
            "|       2| 2020-12-01 00:58:24|  2020-12-01 01:36:14|              2|        11.81|        41.3|yellow|\n",
            "|       1| 2020-12-01 00:08:15|  2020-12-01 00:16:04|              2|          2.7|       15.95|yellow|\n",
            "|       2| 2020-12-01 00:04:21|  2020-12-01 00:29:00|              1|         6.28|        26.8|yellow|\n",
            "|       2| 2020-12-01 00:22:03|  2020-12-01 00:52:55|              1|        18.93|        73.7|yellow|\n",
            "|       2| 2020-12-01 00:46:31|  2020-12-01 00:53:49|              5|         2.75|        13.3|yellow|\n",
            "|       2| 2020-12-01 00:51:30|  2020-12-01 01:26:52|              2|         21.8|       66.36|yellow|\n",
            "|       1| 2020-12-01 00:14:34|  2020-12-01 00:31:04|              1|          7.6|       32.15|yellow|\n",
            "|       1| 2020-12-01 00:11:02|  2020-12-01 00:17:34|              1|          1.7|        11.3|yellow|\n",
            "|       1| 2020-12-01 00:54:55|  2020-12-01 00:57:09|              1|          0.5|         7.8|yellow|\n",
            "|       1| 2020-12-01 00:11:22|  2020-12-01 00:40:36|              1|         21.0|       71.85|yellow|\n",
            "|       2| 2020-11-30 23:59:22|  2020-12-01 00:05:51|              3|         0.81|       11.18|yellow|\n",
            "|       2| 2020-12-01 00:24:34|  2020-12-01 00:29:59|              4|         1.45|       12.36|yellow|\n",
            "+--------+--------------------+---------------------+---------------+-------------+------------+------+\n",
            "only showing top 20 rows\n",
            "\n"
          ],
          "name": "stdout"
        }
      ]
    },
    {
      "cell_type": "code",
      "metadata": {
        "id": "X-hwm0ZDL7mn",
        "colab": {
          "base_uri": "https://localhost:8080/"
        },
        "outputId": "785f7767-dc69-453e-e101-147312dca143"
      },
      "source": [
        " ## Union listed dataframes onto all_df and get unique\n",
        "\n",
        "for i in range(1,len(df_list)):\n",
        "  all_df = UnionFunc(all_df,df_list[i]).distinct()\n",
        "all_df.count()"
      ],
      "execution_count": 11,
      "outputs": [
        {
          "output_type": "execute_result",
          "data": {
            "text/plain": [
              "1545026"
            ]
          },
          "metadata": {
            "tags": []
          },
          "execution_count": 11
        }
      ]
    },
    {
      "cell_type": "code",
      "metadata": {
        "colab": {
          "base_uri": "https://localhost:8080/"
        },
        "id": "R48cEkaw85ho",
        "outputId": "8bf7618f-429c-480e-8622-a142fa4ebf4e"
      },
      "source": [
        "## In order to evaluate data on hour and weekday of the dataset, new columns of pickup_hour and dropoff_hour added\n",
        "\n",
        "edited_timestamp_df = all_df.withColumn(\"tpep_pickup_datetime\",\n",
        "                  to_timestamp(col(\"tpep_pickup_datetime\")))\\\n",
        "                  .withColumn(\"pickup_hour\", hour(col(\"tpep_pickup_datetime\")).alias(\"pickup_hour\"))\\\n",
        "                  .withColumn(\"tpep_dropoff_datetime\",\n",
        "                  to_timestamp(col(\"tpep_dropoff_datetime\")))\\\n",
        "                  .withColumn(\"dropoff_hour\", hour(col(\"tpep_dropoff_datetime\")).alias(\"dropoff_hour\"))\\\n",
        "                  \\\n",
        "                          .withColumn(\"tpep_pickup_datetime\", # timestamp is here converted to weekdays of the date \n",
        "                          to_timestamp(col(\"tpep_pickup_datetime\")))\\\n",
        "                          .withColumn(\"pickup_week_day\", date_format(col(\"tpep_pickup_datetime\"), \"EEEE\")) \\\n",
        "                          .withColumn(\"tpep_dropoff_datetime\",\n",
        "                          to_timestamp(col(\"tpep_dropoff_datetime\")))\\\n",
        "                          .withColumn(\"dropoff_week_day\", date_format(col(\"tpep_dropoff_datetime\"), \"EEEE\"))\n",
        "\n",
        "edited_timestamp_df.show(10)"
      ],
      "execution_count": 12,
      "outputs": [
        {
          "output_type": "stream",
          "text": [
            "+--------+--------------------+---------------------+---------------+-------------+------------+------+-----------+------------+---------------+----------------+\n",
            "|VendorID|tpep_pickup_datetime|tpep_dropoff_datetime|passenger_count|trip_distance|total_amount| color|pickup_hour|dropoff_hour|pickup_week_day|dropoff_week_day|\n",
            "+--------+--------------------+---------------------+---------------+-------------+------------+------+-----------+------------+---------------+----------------+\n",
            "|       2| 2020-12-01 00:01:54|  2020-12-01 00:12:12|              1|         1.93|       15.96|yellow|          0|           0|        Tuesday|         Tuesday|\n",
            "|       2| 2020-12-01 00:48:45|  2020-12-01 01:03:12|              2|         8.74|        32.3|yellow|          0|           1|        Tuesday|         Tuesday|\n",
            "|       1| 2020-12-01 01:03:56|  2020-12-01 01:08:49|              1|          1.6|       12.95|yellow|          1|           1|        Tuesday|         Tuesday|\n",
            "|       1| 2020-12-01 05:53:11|  2020-12-01 06:20:32|              1|         17.5|       65.87|yellow|          5|           6|        Tuesday|         Tuesday|\n",
            "|       2| 2020-12-01 06:21:01|  2020-12-01 06:35:24|              1|         4.64|       22.56|yellow|          6|           6|        Tuesday|         Tuesday|\n",
            "|       1| 2020-12-01 06:50:11|  2020-12-01 06:53:59|              1|          0.5|        9.35|yellow|          6|           6|        Tuesday|         Tuesday|\n",
            "|       2| 2020-12-01 07:40:32|  2020-12-01 07:45:55|              1|         1.13|       11.16|yellow|          7|           7|        Tuesday|         Tuesday|\n",
            "|       2| 2020-12-01 07:32:17|  2020-12-01 07:38:42|              1|         1.72|        12.3|yellow|          7|           7|        Tuesday|         Tuesday|\n",
            "|       2| 2020-12-01 07:15:28|  2020-12-01 07:27:18|              2|         2.79|       17.88|yellow|          7|           7|        Tuesday|         Tuesday|\n",
            "|       2| 2020-12-01 07:23:47|  2020-12-01 07:33:12|              1|         1.03|       12.96|yellow|          7|           7|        Tuesday|         Tuesday|\n",
            "+--------+--------------------+---------------------+---------------+-------------+------------+------+-----------+------------+---------------+----------------+\n",
            "only showing top 10 rows\n",
            "\n"
          ],
          "name": "stdout"
        }
      ]
    },
    {
      "cell_type": "code",
      "metadata": {
        "colab": {
          "base_uri": "https://localhost:8080/"
        },
        "id": "mTpthG4CDvd2",
        "outputId": "e59e6f24-a3bb-488e-a58c-8a66f5aed63c"
      },
      "source": [
        "edited_timestamp_df.printSchema()"
      ],
      "execution_count": 13,
      "outputs": [
        {
          "output_type": "stream",
          "text": [
            "root\n",
            " |-- VendorID: integer (nullable = true)\n",
            " |-- tpep_pickup_datetime: timestamp (nullable = true)\n",
            " |-- tpep_dropoff_datetime: timestamp (nullable = true)\n",
            " |-- passenger_count: integer (nullable = true)\n",
            " |-- trip_distance: double (nullable = true)\n",
            " |-- total_amount: double (nullable = true)\n",
            " |-- color: string (nullable = false)\n",
            " |-- pickup_hour: integer (nullable = true)\n",
            " |-- dropoff_hour: integer (nullable = true)\n",
            " |-- pickup_week_day: string (nullable = true)\n",
            " |-- dropoff_week_day: string (nullable = true)\n",
            "\n"
          ],
          "name": "stdout"
        }
      ]
    },
    {
      "cell_type": "code",
      "metadata": {
        "id": "4t__UYkAQORQ"
      },
      "source": [
        "## Convert to parquet\n",
        "edited_timestamp_df.write.parquet(\"taxiData.parquet\")"
      ],
      "execution_count": 44,
      "outputs": []
    },
    {
      "cell_type": "code",
      "metadata": {
        "id": "9fGoGq5kZeG_"
      },
      "source": [
        "## Convert to avro format after installing pyspark --packages org.apache.spark:spark-avro_2.12:2.4.4\n",
        "edited_timestamp_df.select(\"*\").write.format(\"avro\").save('taxi_Data.avro')"
      ],
      "execution_count": null,
      "outputs": []
    },
    {
      "cell_type": "markdown",
      "metadata": {
        "id": "4GXktZIJfp5y"
      },
      "source": [
        "\n",
        "Write three requested queries to check if the dataset loaded accurately\n"
      ]
    },
    {
      "cell_type": "code",
      "metadata": {
        "id": "W7BKI94mrrxB",
        "colab": {
          "base_uri": "https://localhost:8080/"
        },
        "outputId": "1acca968-5f9d-4e37-f697-72630dd71616"
      },
      "source": [
        "# Day of the week in 2019 and 2020 which has the lowest number of single rider trips\n",
        "# get only passenger_count = 1\n",
        "# count with days of the week\n",
        "dayOfTheWeek_sql = edited_timestamp_df.select(year('tpep_pickup_datetime').alias('year'),'passenger_count','pickup_week_day').filter('passenger_count= 1')\\\n",
        "                                            .filter( (F.col('year') == 2020) | (F.col('year') == 2019) ).groupBy('year','passenger_count','pickup_week_day').count()\n",
        "dayOfTheWeek_sql.show()"
      ],
      "execution_count": 15,
      "outputs": [
        {
          "output_type": "stream",
          "text": [
            "+----+---------------+---------------+------+\n",
            "|year|passenger_count|pickup_week_day| count|\n",
            "+----+---------------+---------------+------+\n",
            "|2020|              1|        Tuesday|202595|\n",
            "|2020|              1|       Saturday|116016|\n",
            "|2020|              1|         Sunday| 95094|\n",
            "|2020|              1|         Monday|142707|\n",
            "|2020|              1|      Wednesday|198610|\n",
            "|2020|              1|         Friday|144419|\n",
            "|2020|              1|       Thursday|170173|\n",
            "+----+---------------+---------------+------+\n",
            "\n"
          ],
          "name": "stdout"
        }
      ]
    },
    {
      "cell_type": "code",
      "metadata": {
        "id": "pUxnmLGz1NSY",
        "colab": {
          "base_uri": "https://localhost:8080/"
        },
        "outputId": "cc42462c-e912-46a1-e0e6-bc5d5bf79725"
      },
      "source": [
        "# Return the week day with least single passenger rides\n",
        "dayOfTheWeek_sql.orderBy('count').show(1)"
      ],
      "execution_count": 16,
      "outputs": [
        {
          "output_type": "stream",
          "text": [
            "+----+---------------+---------------+-----+\n",
            "|year|passenger_count|pickup_week_day|count|\n",
            "+----+---------------+---------------+-----+\n",
            "|2020|              1|         Sunday|95094|\n",
            "+----+---------------+---------------+-----+\n",
            "only showing top 1 row\n",
            "\n"
          ],
          "name": "stdout"
        }
      ]
    },
    {
      "cell_type": "code",
      "metadata": {
        "id": "DjdEHUWq83EQ",
        "colab": {
          "base_uri": "https://localhost:8080/"
        },
        "outputId": "160070df-1f8b-4bea-f439-b714d48b9edf"
      },
      "source": [
        "#The top 3 busiest hours\n",
        "\n",
        "edited_timestamp_df.groupBy('pickup_hour').count().orderBy(col(\"count\").desc()).show(3)"
      ],
      "execution_count": 17,
      "outputs": [
        {
          "output_type": "stream",
          "text": [
            "+-----------+------+\n",
            "|pickup_hour| count|\n",
            "+-----------+------+\n",
            "|         15|130027|\n",
            "|         14|128264|\n",
            "|         16|121423|\n",
            "+-----------+------+\n",
            "only showing top 3 rows\n",
            "\n"
          ],
          "name": "stdout"
        }
      ]
    },
    {
      "cell_type": "markdown",
      "metadata": {
        "id": "OLjVskXKf-cN"
      },
      "source": [
        "Bonus 1) \n",
        "- In case a data analysis needed to put in action on the relation between weather and taxi driving, I have found a dataset as an exapmle (unfortunately not NYC) to merge them "
      ]
    },
    {
      "cell_type": "code",
      "metadata": {
        "colab": {
          "base_uri": "https://localhost:8080/"
        },
        "id": "_id8lr10l2l8",
        "outputId": "f18af3f9-700e-40b5-e7b3-f00d417a8bbe"
      },
      "source": [
        "# Rename the columns in order to join on that specific column\n",
        "\n",
        "filepath = 'https://corgis-edu.github.io/corgis/datasets/csv/weather/weather.csv'\n",
        "spark.sparkContext.addFile(filepath)\n",
        "weather_df = spark.read.csv(\"file://\"+SparkFiles.get('weather.csv'), header=True)\n",
        "weather_df = weather_df.withColumnRenamed('Date.Full','join_date')\n",
        "weather_df.show()"
      ],
      "execution_count": 34,
      "outputs": [
        {
          "output_type": "stream",
          "text": [
            "+------------------+----------+----------+------------+---------+--------------------+------------+--------------------+-------------+-------------------------+-------------------------+-------------------------+-------------------+---------------+\n",
            "|Data.Precipitation| join_date|Date.Month|Date.Week of|Date.Year|        Station.City|Station.Code|    Station.Location|Station.State|Data.Temperature.Avg Temp|Data.Temperature.Max Temp|Data.Temperature.Min Temp|Data.Wind.Direction|Data.Wind.Speed|\n",
            "+------------------+----------+----------+------------+---------+--------------------+------------+--------------------+-------------+-------------------------+-------------------------+-------------------------+-------------------+---------------+\n",
            "|               0.0|2016-01-03|         1|           3|     2016|          Birmingham|         BHM|      Birmingham, AL|      Alabama|                       39|                       46|                       32|                 33|           4.33|\n",
            "|               0.0|2016-01-03|         1|           3|     2016|          Huntsville|         HSV|      Huntsville, AL|      Alabama|                       39|                       47|                       31|                 32|           3.86|\n",
            "|              0.16|2016-01-03|         1|           3|     2016|              Mobile|         MOB|          Mobile, AL|      Alabama|                       46|                       51|                       41|                 35|           9.73|\n",
            "|               0.0|2016-01-03|         1|           3|     2016|          Montgomery|         MGM|      Montgomery, AL|      Alabama|                       45|                       52|                       38|                 32|           6.86|\n",
            "|              0.01|2016-01-03|         1|           3|     2016|           Anchorage|         ANC|       Anchorage, AK|       Alaska|                       34|                       38|                       29|                 19|            7.8|\n",
            "|              0.09|2016-01-03|         1|           3|     2016|             Annette|         ANN|         Annette, AK|       Alaska|                       38|                       44|                       31|                  9|            8.7|\n",
            "|              0.05|2016-01-03|         1|           3|     2016|              Bethel|         BET|          Bethel, AK|       Alaska|                       30|                       36|                       24|                  9|          16.46|\n",
            "|              0.15|2016-01-03|         1|           3|     2016|             Bettles|         BTT|         Bettles, AK|       Alaska|                       22|                       32|                        9|                  2|            3.1|\n",
            "|               0.6|2016-01-03|         1|           3|     2016|            Cold Bay|         CDB|        Cold Bay, AK|       Alaska|                       34|                       36|                       31|                 20|            9.1|\n",
            "|              2.15|2016-01-03|         1|           3|     2016|             Cordova|         CDV|         Cordova, AK|       Alaska|                       38|                       43|                       33|                  9|           9.76|\n",
            "|               0.0|2016-01-03|         1|           3|     2016|Delta Junction/Ft...|         BIG|Delta Junction/Ft...|       Alaska|                       31|                       39|                       23|                 14|           17.9|\n",
            "|               0.0|2016-01-03|         1|           3|     2016|           Fairbanks|         FAI|       Fairbanks, AK|       Alaska|                       14|                       30|                        4|                  2|            2.2|\n",
            "|              0.02|2016-01-03|         1|           3|     2016|             Gulkana|         GKN|         Gulkana, AK|       Alaska|                       27|                       34|                       19|                 14|           8.23|\n",
            "|              1.22|2016-01-03|         1|           3|     2016|               Homer|         HOM|           Homer, AK|       Alaska|                       39|                       42|                       35|                  9|          11.26|\n",
            "|               0.0|2016-01-03|         1|           3|     2016|             Iliamna|         ILI|         Iliamna, AK|       Alaska|                       40|                       42|                       37|                  9|          19.76|\n",
            "|               0.7|2016-01-03|         1|           3|     2016|              Juneau|         JNU|          Juneau, AK|       Alaska|                       36|                       40|                       31|                 10|           9.23|\n",
            "|              0.14|2016-01-03|         1|           3|     2016|               Kenai|         ENA|           Kenai, AK|       Alaska|                       34|                       37|                       30|                  6|           11.2|\n",
            "|              0.17|2016-01-03|         1|           3|     2016|           Ketchikan|         KTN|       Ketchikan, AK|       Alaska|                       37|                       41|                       33|                 15|           6.16|\n",
            "|              0.05|2016-01-03|         1|           3|     2016|         King Salmon|         AKN|     King Salmon, AK|       Alaska|                       39|                       42|                       35|                 10|          18.83|\n",
            "|               1.3|2016-01-03|         1|           3|     2016|              Kodiak|         ADQ|          Kodiak, AK|       Alaska|                       40|                       42|                       36|                 11|           21.8|\n",
            "+------------------+----------+----------+------------+---------+--------------------+------------+--------------------+-------------+-------------------------+-------------------------+-------------------------+-------------------+---------------+\n",
            "only showing top 20 rows\n",
            "\n"
          ],
          "name": "stdout"
        }
      ]
    },
    {
      "cell_type": "code",
      "metadata": {
        "id": "2B7V324DlTNu",
        "colab": {
          "base_uri": "https://localhost:8080/"
        },
        "outputId": "db3e1bf3-f646-4350-a576-4f25f2f0055b"
      },
      "source": [
        "# In order not to merge dataset from 2016 and 2020 and return a total full of null dataset, I here get taxi data from 2016 as an example.\n",
        "\n",
        "spark.sparkContext.addFile('https://s3.amazonaws.com/nyc-tlc/trip+data/green_tripdata_2016-01.csv')\n",
        "example_df = spark.read.csv(\"file://\"+SparkFiles.get('green_tripdata_2016-01.csv'), header=True, inferSchema= True).select('total_amount','trip_distance','lpep_pickup_datetime')\n",
        "example_df.show(10)"
      ],
      "execution_count": 40,
      "outputs": [
        {
          "output_type": "stream",
          "text": [
            "+------------+-------------+--------------------+\n",
            "|total_amount|trip_distance|lpep_pickup_datetime|\n",
            "+------------+-------------+--------------------+\n",
            "|       11.16|         1.46| 2016-01-01 00:29:24|\n",
            "|        16.8|         3.56| 2016-01-01 00:19:39|\n",
            "|       22.25|         3.79| 2016-01-01 00:19:33|\n",
            "|        14.8|         3.01| 2016-01-01 00:22:12|\n",
            "|        13.3|         2.55| 2016-01-01 00:24:01|\n",
            "|         8.3|         1.37| 2016-01-01 00:32:59|\n",
            "|         6.3|         0.57| 2016-01-01 00:34:42|\n",
            "|         8.3|         1.01| 2016-01-01 00:31:23|\n",
            "|        15.3|         2.46| 2016-01-01 00:24:40|\n",
            "|        11.9|         1.61| 2016-01-01 00:28:59|\n",
            "+------------+-------------+--------------------+\n",
            "only showing top 10 rows\n",
            "\n"
          ],
          "name": "stdout"
        }
      ]
    },
    {
      "cell_type": "code",
      "metadata": {
        "id": "50XoJu5Kkpse",
        "colab": {
          "base_uri": "https://localhost:8080/"
        },
        "outputId": "a2e63f9b-4cf3-4d7a-c996-b0ccbf5b1703"
      },
      "source": [
        "# Divide pickup datetime of taxi data into year to merge with weather data\n",
        "\n",
        "join_data = example_df.withColumn(\"lpep_pickup_datetime\",\n",
        "                  to_timestamp(col(\"lpep_pickup_datetime\")))\\\n",
        "                  .withColumn(\"join_date\", to_date(col(\"lpep_pickup_datetime\")).alias(\"join_date\"))\n",
        "join_data.show()       "
      ],
      "execution_count": 41,
      "outputs": [
        {
          "output_type": "stream",
          "text": [
            "+------------+-------------+--------------------+----------+\n",
            "|total_amount|trip_distance|lpep_pickup_datetime| join_date|\n",
            "+------------+-------------+--------------------+----------+\n",
            "|       11.16|         1.46| 2016-01-01 00:29:24|2016-01-01|\n",
            "|        16.8|         3.56| 2016-01-01 00:19:39|2016-01-01|\n",
            "|       22.25|         3.79| 2016-01-01 00:19:33|2016-01-01|\n",
            "|        14.8|         3.01| 2016-01-01 00:22:12|2016-01-01|\n",
            "|        13.3|         2.55| 2016-01-01 00:24:01|2016-01-01|\n",
            "|         8.3|         1.37| 2016-01-01 00:32:59|2016-01-01|\n",
            "|         6.3|         0.57| 2016-01-01 00:34:42|2016-01-01|\n",
            "|         8.3|         1.01| 2016-01-01 00:31:23|2016-01-01|\n",
            "|        15.3|         2.46| 2016-01-01 00:24:40|2016-01-01|\n",
            "|        11.9|         1.61| 2016-01-01 00:28:59|2016-01-01|\n",
            "|        9.12|         0.72| 2016-01-01 00:32:25|2016-01-01|\n",
            "|        5.76|         0.32| 2016-01-01 00:37:51|2016-01-01|\n",
            "|        15.8|         3.54| 2016-01-01 00:21:39|2016-01-01|\n",
            "|         7.3|          1.1| 2016-01-01 00:34:04|2016-01-01|\n",
            "|        14.3|         2.28| 2016-01-01 00:26:08|2016-01-01|\n",
            "|        6.96|         0.68| 2016-01-01 00:35:40|2016-01-01|\n",
            "|        11.3|         1.36| 2016-01-01 00:25:05|2016-01-01|\n",
            "|        19.8|         3.07| 2016-01-01 00:17:40|2016-01-01|\n",
            "|         8.8|         1.52| 2016-01-01 00:31:16|2016-01-01|\n",
            "|        12.8|         2.55| 2016-01-01 00:25:58|2016-01-01|\n",
            "+------------+-------------+--------------------+----------+\n",
            "only showing top 20 rows\n",
            "\n"
          ],
          "name": "stdout"
        }
      ]
    },
    {
      "cell_type": "code",
      "metadata": {
        "colab": {
          "base_uri": "https://localhost:8080/"
        },
        "id": "ZJwy35iGk5h5",
        "outputId": "2a8de6d1-a0ab-42c6-a12b-f12b7fe70586"
      },
      "source": [
        "# Merge two datasets based on a common join_date column\n",
        "\n",
        "merged_df = weather_df.join(join_data, on=[\"join_date\"] , how=\"inner\")\n",
        "merged_df.show()"
      ],
      "execution_count": 43,
      "outputs": [
        {
          "output_type": "stream",
          "text": [
            "+----------+------------------+----------+------------+---------+------------+------------+----------------+-------------+-------------------------+-------------------------+-------------------------+-------------------+---------------+------------+-------------+--------------------+\n",
            "| join_date|Data.Precipitation|Date.Month|Date.Week of|Date.Year|Station.City|Station.Code|Station.Location|Station.State|Data.Temperature.Avg Temp|Data.Temperature.Max Temp|Data.Temperature.Min Temp|Data.Wind.Direction|Data.Wind.Speed|total_amount|trip_distance|lpep_pickup_datetime|\n",
            "+----------+------------------+----------+------------+---------+------------+------------+----------------+-------------+-------------------------+-------------------------+-------------------------+-------------------+---------------+------------+-------------+--------------------+\n",
            "|2016-01-03|               0.0|         1|           3|     2016|    Sheridan|         SHR|    Sheridan, WY|      Wyoming|                       22|                       36|                        7|                 21|            0.8|       -52.8|          0.0| 2016-01-03 00:00:14|\n",
            "|2016-01-03|               0.0|         1|           3|     2016|     Rawlins|         RWL|     Rawlins, WY|      Wyoming|                        3|                       19|                      -13|                 16|            1.9|       -52.8|          0.0| 2016-01-03 00:00:14|\n",
            "|2016-01-03|               0.0|         1|           3|     2016|      Lander|         LND|      Lander, WY|      Wyoming|                       11|                       21|                        0|                 27|           0.43|       -52.8|          0.0| 2016-01-03 00:00:14|\n",
            "|2016-01-03|               0.0|         1|           3|     2016|    Cheyenne|         CYS|    Cheyenne, WY|      Wyoming|                       23|                       38|                        7|                 27|           8.33|       -52.8|          0.0| 2016-01-03 00:00:14|\n",
            "|2016-01-03|               0.0|         1|           3|     2016|      Casper|         CPR|      Casper, WY|      Wyoming|                       21|                       28|                       13|                 22|          16.13|       -52.8|          0.0| 2016-01-03 00:00:14|\n",
            "|2016-01-03|               0.0|         1|           3|     2016|   Milwaukee|         MKE|   Milwaukee, WI|    Wisconsin|                       26|                       30|                       21|                 28|          10.96|       -52.8|          0.0| 2016-01-03 00:00:14|\n",
            "|2016-01-03|               0.0|         1|           3|     2016|     Madison|         MSN|     Madison, WI|    Wisconsin|                       24|                       29|                       18|                 28|            5.6|       -52.8|          0.0| 2016-01-03 00:00:14|\n",
            "|2016-01-03|               0.0|         1|           3|     2016|   La Crosse|         LSE|   La Crosse, WI|    Wisconsin|                       25|                       32|                       17|                 27|           8.16|       -52.8|          0.0| 2016-01-03 00:00:14|\n",
            "|2016-01-03|               0.0|         1|           3|     2016|   Green Bay|         GRB|   Green Bay, WI|    Wisconsin|                       23|                       28|                       17|                 27|            9.4|       -52.8|          0.0| 2016-01-03 00:00:14|\n",
            "|2016-01-03|               0.0|         1|           3|     2016|  Huntington|         HTS|  Huntington, WV|West Virginia|                       36|                       43|                       28|                 24|           6.23|       -52.8|          0.0| 2016-01-03 00:00:14|\n",
            "|2016-01-03|               0.0|         1|           3|     2016|      Elkins|         EKN|      Elkins, WV|West Virginia|                       32|                       38|                       27|                 24|           5.26|       -52.8|          0.0| 2016-01-03 00:00:14|\n",
            "|2016-01-03|               0.0|         1|           3|     2016|  Charleston|         CRW|  Charleston, WV|West Virginia|                       37|                       43|                       31|                 24|           7.23|       -52.8|          0.0| 2016-01-03 00:00:14|\n",
            "|2016-01-03|               0.0|         1|           3|     2016|     Beckley|         BKW|     Beckley, WV|West Virginia|                       33|                       40|                       26|                 27|            7.6|       -52.8|          0.0| 2016-01-03 00:00:14|\n",
            "|2016-01-03|              0.26|         1|           3|     2016|      Yakima|         YKM|      Yakima, WA|   Washington|                       16|                       24|                        8|                 30|            3.2|       -52.8|          0.0| 2016-01-03 00:00:14|\n",
            "|2016-01-03|              0.09|         1|           3|     2016|     Spokane|         GEG|     Spokane, WA|   Washington|                       12|                       20|                        3|                  2|            5.2|       -52.8|          0.0| 2016-01-03 00:00:14|\n",
            "|2016-01-03|              0.02|         1|           3|     2016|     Seattle|         SEA|     Seattle, WA|   Washington|                       35|                       42|                       28|                  6|           4.96|       -52.8|          0.0| 2016-01-03 00:00:14|\n",
            "|2016-01-03|               0.0|         1|           3|     2016|  Quillayute|         UIL|  Quillayute, WA|   Washington|                       34|                       46|                       22|                  6|           2.53|       -52.8|          0.0| 2016-01-03 00:00:14|\n",
            "|2016-01-03|              0.02|         1|           3|     2016|     Olympia|         OLM|     Olympia, WA|   Washington|                       26|                       37|                       14|                 11|            0.5|       -52.8|          0.0| 2016-01-03 00:00:14|\n",
            "|2016-01-03|              0.07|         1|           3|     2016|     Ephrata|         EPH|     Ephrata, WA|   Washington|                       12|                       20|                        3|                 34|            7.2|       -52.8|          0.0| 2016-01-03 00:00:14|\n",
            "|2016-01-03|              0.07|         1|           3|     2016|   Deer Park|         DEW|   Deer Park, WA|   Washington|                       10|                       22|                       -2|                 24|            6.2|       -52.8|          0.0| 2016-01-03 00:00:14|\n",
            "+----------+------------------+----------+------------+---------+------------+------------+----------------+-------------+-------------------------+-------------------------+-------------------------+-------------------+---------------+------------+-------------+--------------------+\n",
            "only showing top 20 rows\n",
            "\n"
          ],
          "name": "stdout"
        }
      ]
    },
    {
      "cell_type": "markdown",
      "metadata": {
        "id": "29SeSDgMrXHJ"
      },
      "source": [
        "Bonus 2) \n",
        "- Excel row limit is 1048576 rows therefore the dataframe_list could be divided into pieces to fit in excel sheets depending on the use case and the date  interval needed.\n",
        "- If the analysis is being done in aggregation, Excel Power Pivot can process up to 50 million rows."
      ]
    },
    {
      "cell_type": "markdown",
      "metadata": {
        "id": "f7v3ORQkaaoM"
      },
      "source": [
        "For deployment I installed and lauch Airflow in order to schedule PySpark jon on my local host 8080 by compiling following commands on Ubuntu terminal;\n",
        "\n",
        "\n",
        "```\n",
        "pip3 install apache-airflow==2.0.2\n",
        "\n",
        "# initialize the database\n",
        "airflow db init\n",
        "\n",
        "airflow users create \\\n",
        "    --username admin \\\n",
        "    --firstname Berkay \\\n",
        "    --lastname Sahin \\\n",
        "    --role Admin \\\n",
        "    --email sahinberkay10@icloud.com\n",
        "\n",
        "airflow webserver --port 8080\n",
        "\n",
        "airflow scheduler\n",
        "\n",
        "\n",
        "\n",
        "```\n",
        "\n",
        "\n",
        "\n",
        "\n"
      ]
    },
    {
      "cell_type": "markdown",
      "metadata": {
        "id": "DezoPHEvdoFD"
      },
      "source": [
        "Then connected my Colab Jupyter Notebook to my local host 8888 in order to be able to set schedule.\n",
        "![Screenshot 2021-05-04 102228.png](data:image/png;base64,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)"
      ]
    },
    {
      "cell_type": "markdown",
      "metadata": {
        "id": "vKmKgm9TejOu"
      },
      "source": [
        "Then tried to create a job to execute on my local host beginning from 1. of January 2022 on a annually basis."
      ]
    },
    {
      "cell_type": "code",
      "metadata": {
        "id": "eH2IbBulaN88"
      },
      "source": [
        "from airflow import DAG\n",
        "from airflow.operators.python import PythonOperator\n",
        "\n",
        "def _run_Task():\n",
        "  return print(\"Up and running!\")\n",
        "\n",
        "with DAG(\"MobilabTask\", \n",
        "    start_date=datetime(2022,1,1),\n",
        "    schedule_interval=\"@yearly\" ,\n",
        "    catchup=False) as dag:\n",
        "\n",
        "    runTask = PythonOperator(\n",
        "        task_id =\"runTask\",\n",
        "        python_callable=_run_Task\n",
        "    )"
      ],
      "execution_count": null,
      "outputs": []
    }
  ]
}